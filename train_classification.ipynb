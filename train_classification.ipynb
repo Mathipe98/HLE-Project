{
 "cells": [
  {
   "cell_type": "code",
   "execution_count": 1,
   "metadata": {},
   "outputs": [
    {
     "name": "stderr",
     "output_type": "stream",
     "text": [
      "c:\\Users\\mathi\\Prosjekter\\Barcelona\\HLE\\HLE-Project\\venv\\lib\\site-packages\\tqdm\\auto.py:22: TqdmWarning: IProgress not found. Please update jupyter and ipywidgets. See https://ipywidgets.readthedocs.io/en/stable/user_install.html\n",
      "  from .autonotebook import tqdm as notebook_tqdm\n"
     ]
    }
   ],
   "source": [
    "import ast\n",
    "import datasets\n",
    "import json\n",
    "# import evaluate\n",
    "import pandas as pd\n",
    "import numpy as np\n",
    "import matplotlib.pyplot as plt\n",
    "import torch\n",
    "\n",
    "from sklearn.metrics import f1_score, roc_auc_score, accuracy_score, classification_report\n",
    "from transformers import AutoModelForSequenceClassification, TrainingArguments, Trainer, BertTokenizer, DataCollatorWithPadding, EvalPrediction\n",
    "from sklearn.model_selection import train_test_split"
   ]
  },
  {
   "cell_type": "code",
   "execution_count": 2,
   "metadata": {},
   "outputs": [
    {
     "name": "stdout",
     "output_type": "stream",
     "text": [
      "True\n"
     ]
    }
   ],
   "source": [
    "print(torch.cuda.is_available())\n",
    "device = \"cuda:0\" if torch.cuda.is_available() else \"cpu\""
   ]
  },
  {
   "cell_type": "code",
   "execution_count": 3,
   "metadata": {},
   "outputs": [],
   "source": [
    "train_df = pd.read_csv(\"data/train.csv\")\n",
    "test_df = pd.read_csv(\"data/test.csv\")"
   ]
  },
  {
   "attachments": {},
   "cell_type": "markdown",
   "metadata": {},
   "source": [
    "# NB: Quick Fix of late-found data leakage\n",
    "We found out very close to the deadline that our preprocessing had a data leakage, where the keywords from the data-scraping would contain the actual target label. Therefore they are hidden inside the text.\n",
    "\n",
    "We therefore remove all of these occurrences."
   ]
  },
  {
   "cell_type": "code",
   "execution_count": 4,
   "metadata": {},
   "outputs": [
    {
     "data": {
      "text/plain": [
       "['nyheter',\n",
       " 'tema',\n",
       " 'sport',\n",
       " 'kjendis',\n",
       " 'kultur',\n",
       " 'meninger',\n",
       " 'annonse',\n",
       " 'bok',\n",
       " 'magasinet',\n",
       " 'okonomi']"
      ]
     },
     "execution_count": 4,
     "metadata": {},
     "output_type": "execute_result"
    }
   ],
   "source": [
    "labels = [label for label in train_df.columns if label != 'text']\n",
    "id2label = {i: label for i, label in enumerate(labels)}\n",
    "label2id = {label: i for i, label in enumerate(labels)}\n",
    "labels"
   ]
  },
  {
   "cell_type": "code",
   "execution_count": 5,
   "metadata": {},
   "outputs": [
    {
     "data": {
      "text/html": [
       "<div>\n",
       "<style scoped>\n",
       "    .dataframe tbody tr th:only-of-type {\n",
       "        vertical-align: middle;\n",
       "    }\n",
       "\n",
       "    .dataframe tbody tr th {\n",
       "        vertical-align: top;\n",
       "    }\n",
       "\n",
       "    .dataframe thead th {\n",
       "        text-align: right;\n",
       "    }\n",
       "</style>\n",
       "<table border=\"1\" class=\"dataframe\">\n",
       "  <thead>\n",
       "    <tr style=\"text-align: right;\">\n",
       "      <th></th>\n",
       "      <th>nyheter</th>\n",
       "      <th>tema</th>\n",
       "      <th>sport</th>\n",
       "      <th>kjendis</th>\n",
       "      <th>kultur</th>\n",
       "      <th>meninger</th>\n",
       "      <th>annonse</th>\n",
       "      <th>bok</th>\n",
       "      <th>magasinet</th>\n",
       "      <th>okonomi</th>\n",
       "      <th>text</th>\n",
       "    </tr>\n",
       "  </thead>\n",
       "  <tbody>\n",
       "    <tr>\n",
       "      <th>0</th>\n",
       "      <td>0</td>\n",
       "      <td>0</td>\n",
       "      <td>0</td>\n",
       "      <td>0</td>\n",
       "      <td>0</td>\n",
       "      <td>1</td>\n",
       "      <td>0</td>\n",
       "      <td>0</td>\n",
       "      <td>0</td>\n",
       "      <td>0</td>\n",
       "      <td>Overskrift: en lek med ilden. Oppsummering: Ba...</td>\n",
       "    </tr>\n",
       "    <tr>\n",
       "      <th>1</th>\n",
       "      <td>0</td>\n",
       "      <td>0</td>\n",
       "      <td>0</td>\n",
       "      <td>1</td>\n",
       "      <td>0</td>\n",
       "      <td>0</td>\n",
       "      <td>0</td>\n",
       "      <td>0</td>\n",
       "      <td>0</td>\n",
       "      <td>0</td>\n",
       "      <td>Overskrift: apner seg om morsrollen. Oppsummer...</td>\n",
       "    </tr>\n",
       "    <tr>\n",
       "      <th>2</th>\n",
       "      <td>0</td>\n",
       "      <td>0</td>\n",
       "      <td>1</td>\n",
       "      <td>0</td>\n",
       "      <td>0</td>\n",
       "      <td>0</td>\n",
       "      <td>0</td>\n",
       "      <td>0</td>\n",
       "      <td>0</td>\n",
       "      <td>0</td>\n",
       "      <td>Overskrift: tatt pa senga. Oppsummering: Måten...</td>\n",
       "    </tr>\n",
       "    <tr>\n",
       "      <th>3</th>\n",
       "      <td>0</td>\n",
       "      <td>0</td>\n",
       "      <td>1</td>\n",
       "      <td>0</td>\n",
       "      <td>0</td>\n",
       "      <td>0</td>\n",
       "      <td>0</td>\n",
       "      <td>0</td>\n",
       "      <td>0</td>\n",
       "      <td>0</td>\n",
       "      <td>Overskrift: kjopt ut fra familieselskapet. Opp...</td>\n",
       "    </tr>\n",
       "    <tr>\n",
       "      <th>4</th>\n",
       "      <td>1</td>\n",
       "      <td>0</td>\n",
       "      <td>0</td>\n",
       "      <td>0</td>\n",
       "      <td>0</td>\n",
       "      <td>0</td>\n",
       "      <td>0</td>\n",
       "      <td>0</td>\n",
       "      <td>0</td>\n",
       "      <td>0</td>\n",
       "      <td>Overskrift: gjor den skitne jobben. Oppsummeri...</td>\n",
       "    </tr>\n",
       "    <tr>\n",
       "      <th>...</th>\n",
       "      <td>...</td>\n",
       "      <td>...</td>\n",
       "      <td>...</td>\n",
       "      <td>...</td>\n",
       "      <td>...</td>\n",
       "      <td>...</td>\n",
       "      <td>...</td>\n",
       "      <td>...</td>\n",
       "      <td>...</td>\n",
       "      <td>...</td>\n",
       "      <td>...</td>\n",
       "    </tr>\n",
       "    <tr>\n",
       "      <th>13591</th>\n",
       "      <td>1</td>\n",
       "      <td>0</td>\n",
       "      <td>0</td>\n",
       "      <td>0</td>\n",
       "      <td>0</td>\n",
       "      <td>0</td>\n",
       "      <td>0</td>\n",
       "      <td>0</td>\n",
       "      <td>0</td>\n",
       "      <td>0</td>\n",
       "      <td>Overskrift: syntes det var hjerteratt. Oppsumm...</td>\n",
       "    </tr>\n",
       "    <tr>\n",
       "      <th>13592</th>\n",
       "      <td>0</td>\n",
       "      <td>1</td>\n",
       "      <td>0</td>\n",
       "      <td>0</td>\n",
       "      <td>0</td>\n",
       "      <td>0</td>\n",
       "      <td>0</td>\n",
       "      <td>0</td>\n",
       "      <td>0</td>\n",
       "      <td>0</td>\n",
       "      <td>Overskrift: dode av samme sykdom. Oppsummering...</td>\n",
       "    </tr>\n",
       "    <tr>\n",
       "      <th>13593</th>\n",
       "      <td>1</td>\n",
       "      <td>0</td>\n",
       "      <td>0</td>\n",
       "      <td>0</td>\n",
       "      <td>0</td>\n",
       "      <td>0</td>\n",
       "      <td>0</td>\n",
       "      <td>0</td>\n",
       "      <td>0</td>\n",
       "      <td>0</td>\n",
       "      <td>Overskrift: innestengt i 39 dager skremmende. ...</td>\n",
       "    </tr>\n",
       "    <tr>\n",
       "      <th>13594</th>\n",
       "      <td>0</td>\n",
       "      <td>0</td>\n",
       "      <td>1</td>\n",
       "      <td>0</td>\n",
       "      <td>0</td>\n",
       "      <td>0</td>\n",
       "      <td>0</td>\n",
       "      <td>0</td>\n",
       "      <td>0</td>\n",
       "      <td>0</td>\n",
       "      <td>Overskrift: sterke reaksjoner  sjokkert. Oppsu...</td>\n",
       "    </tr>\n",
       "    <tr>\n",
       "      <th>13595</th>\n",
       "      <td>0</td>\n",
       "      <td>0</td>\n",
       "      <td>0</td>\n",
       "      <td>1</td>\n",
       "      <td>0</td>\n",
       "      <td>0</td>\n",
       "      <td>0</td>\n",
       "      <td>0</td>\n",
       "      <td>0</td>\n",
       "      <td>0</td>\n",
       "      <td>Overskrift: stygt skadd en ufattelig smerte. O...</td>\n",
       "    </tr>\n",
       "  </tbody>\n",
       "</table>\n",
       "<p>13596 rows × 11 columns</p>\n",
       "</div>"
      ],
      "text/plain": [
       "       nyheter  tema  sport  kjendis  kultur  meninger  annonse  bok  \\\n",
       "0            0     0      0        0       0         1        0    0   \n",
       "1            0     0      0        1       0         0        0    0   \n",
       "2            0     0      1        0       0         0        0    0   \n",
       "3            0     0      1        0       0         0        0    0   \n",
       "4            1     0      0        0       0         0        0    0   \n",
       "...        ...   ...    ...      ...     ...       ...      ...  ...   \n",
       "13591        1     0      0        0       0         0        0    0   \n",
       "13592        0     1      0        0       0         0        0    0   \n",
       "13593        1     0      0        0       0         0        0    0   \n",
       "13594        0     0      1        0       0         0        0    0   \n",
       "13595        0     0      0        1       0         0        0    0   \n",
       "\n",
       "       magasinet  okonomi                                               text  \n",
       "0              0        0  Overskrift: en lek med ilden. Oppsummering: Ba...  \n",
       "1              0        0  Overskrift: apner seg om morsrollen. Oppsummer...  \n",
       "2              0        0  Overskrift: tatt pa senga. Oppsummering: Måten...  \n",
       "3              0        0  Overskrift: kjopt ut fra familieselskapet. Opp...  \n",
       "4              0        0  Overskrift: gjor den skitne jobben. Oppsummeri...  \n",
       "...          ...      ...                                                ...  \n",
       "13591          0        0  Overskrift: syntes det var hjerteratt. Oppsumm...  \n",
       "13592          0        0  Overskrift: dode av samme sykdom. Oppsummering...  \n",
       "13593          0        0  Overskrift: innestengt i 39 dager skremmende. ...  \n",
       "13594          0        0  Overskrift: sterke reaksjoner  sjokkert. Oppsu...  \n",
       "13595          0        0  Overskrift: stygt skadd en ufattelig smerte. O...  \n",
       "\n",
       "[13596 rows x 11 columns]"
      ]
     },
     "execution_count": 5,
     "metadata": {},
     "output_type": "execute_result"
    }
   ],
   "source": [
    "train_df"
   ]
  },
  {
   "cell_type": "code",
   "execution_count": 6,
   "metadata": {},
   "outputs": [],
   "source": [
    "for i in range(len(train_df)):\n",
    "    text = train_df.loc[i, 'text']\n",
    "    text_list = text.split(\".\")\n",
    "    for t in text_list:\n",
    "        if \" Nøkkelord:\" in t:\n",
    "            text_list.remove(t)\n",
    "    train_df.loc[i, 'text'] = \".\".join(text_list)\n",
    "\n",
    "for i in range(len(test_df)):\n",
    "    text = test_df.loc[i, 'text']\n",
    "    text_list = text.split(\".\")\n",
    "    for t in text_list:\n",
    "        if \" Nøkkelord:\" in t:\n",
    "            text_list.remove(t)\n",
    "    test_df.loc[i, 'text'] = \".\".join(text_list)"
   ]
  },
  {
   "cell_type": "code",
   "execution_count": 7,
   "metadata": {},
   "outputs": [],
   "source": [
    "# Remove all occurrences of labels within every row of the text column\n",
    "for label in labels:\n",
    "    train_df['text'] = train_df['text'].str.replace(label, '')\n",
    "    test_df['text'] = test_df['text'].str.replace(label, '')"
   ]
  },
  {
   "cell_type": "code",
   "execution_count": 8,
   "metadata": {},
   "outputs": [],
   "source": [
    "for label in labels:\n",
    "    for i in range(len(train_df)):\n",
    "        text = train_df.loc[i, 'text']\n",
    "        assert label not in text\n",
    "    for i in range(len(test_df)):\n",
    "        text = test_df.loc[i, 'text']\n",
    "        assert label not in text"
   ]
  },
  {
   "cell_type": "code",
   "execution_count": 9,
   "metadata": {},
   "outputs": [],
   "source": [
    "# source: https://jesusleal.io/2021/04/21/Longformer-multilabel-classification/\n",
    "def multi_label_metrics(predictions, labels, threshold=0.5):\n",
    "    # first, apply sigmoid on predictions which are of shape (batch_size, num_labels)\n",
    "    sigmoid = torch.nn.Sigmoid()\n",
    "    cross_entropy = torch.nn.CrossEntropyLoss()\n",
    "    probs = sigmoid(torch.Tensor(predictions))\n",
    "    # next, use threshold to turn them into integer predictions\n",
    "    y_pred = np.zeros(probs.shape)\n",
    "    y_pred[np.where(probs >= threshold)] = 1\n",
    "    # finally, compute metrics\n",
    "    y_true = labels\n",
    "    f1_micro_average = f1_score(y_true=y_true, y_pred=y_pred, average='micro')\n",
    "    roc_auc = roc_auc_score(y_true, y_pred, average = 'micro')\n",
    "    accuracy = accuracy_score(y_true, y_pred)\n",
    "    ce_loss = cross_entropy(torch.Tensor(y_true), torch.Tensor(y_pred))\n",
    "    # return as dictionary\n",
    "    metrics = {'f1': f1_micro_average,\n",
    "               'roc_auc': roc_auc,\n",
    "               'accuracy': accuracy}\n",
    "    return metrics\n",
    "\n",
    "def compute_metrics(p: EvalPrediction):\n",
    "    preds = p.predictions[0] if isinstance(p.predictions, \n",
    "            tuple) else p.predictions\n",
    "    result = multi_label_metrics(\n",
    "        predictions=preds, \n",
    "        labels=p.label_ids)\n",
    "    return result\n",
    "\n",
    "def compute_loss(model, inputs, return_outputs=False):\n",
    "    labels = inputs.get(\"labels\")\n",
    "    outputs = model(**inputs)\n",
    "    logits = outputs.get('logits')\n",
    "    loss_fct = torch.nn.CrossEntropyLoss()\n",
    "    loss = loss_fct(logits.squeeze(), labels.squeeze())\n",
    "    return (loss, outputs) if return_outputs else loss"
   ]
  },
  {
   "cell_type": "code",
   "execution_count": 10,
   "metadata": {},
   "outputs": [
    {
     "name": "stderr",
     "output_type": "stream",
     "text": [
      "Some weights of the model checkpoint at NbAiLab/nb-bert-large were not used when initializing BertForSequenceClassification: ['cls.seq_relationship.bias', 'cls.predictions.decoder.bias', 'cls.predictions.transform.LayerNorm.weight', 'cls.predictions.bias', 'cls.predictions.transform.LayerNorm.bias', 'cls.predictions.decoder.weight', 'cls.seq_relationship.weight', 'cls.predictions.transform.dense.weight', 'cls.predictions.transform.dense.bias']\n",
      "- This IS expected if you are initializing BertForSequenceClassification from the checkpoint of a model trained on another task or with another architecture (e.g. initializing a BertForSequenceClassification model from a BertForPreTraining model).\n",
      "- This IS NOT expected if you are initializing BertForSequenceClassification from the checkpoint of a model that you expect to be exactly identical (initializing a BertForSequenceClassification model from a BertForSequenceClassification model).\n",
      "Some weights of BertForSequenceClassification were not initialized from the model checkpoint at NbAiLab/nb-bert-large and are newly initialized: ['classifier.weight', 'classifier.bias']\n",
      "You should probably TRAIN this model on a down-stream task to be able to use it for predictions and inference.\n"
     ]
    }
   ],
   "source": [
    "model = AutoModelForSequenceClassification.from_pretrained(\n",
    "    \"NbAiLab/nb-bert-large\",\n",
    "    problem_type=\"multi_label_classification\",\n",
    "    num_labels=len(labels), \n",
    "    id2label=id2label, \n",
    "    label2id=label2id\n",
    ")\n",
    "\n",
    "model = model.share_memory().to(device)"
   ]
  },
  {
   "cell_type": "code",
   "execution_count": 11,
   "metadata": {},
   "outputs": [],
   "source": [
    "tokenizer = BertTokenizer.from_pretrained(\"NbAiLab/nb-bert-large\")"
   ]
  },
  {
   "cell_type": "code",
   "execution_count": 12,
   "metadata": {},
   "outputs": [],
   "source": [
    "def preprocess_data(examples):\n",
    "  # take a batch of texts\n",
    "  text = examples[\"text\"]\n",
    "  # encode them\n",
    "  encoding = tokenizer(text, padding=\"max_length\", truncation=True, max_length=64)\n",
    "  # add labels\n",
    "  labels_batch = {k: examples[k] for k in examples.keys() if k in labels}\n",
    "  # create numpy array of shape (batch_size, num_labels)\n",
    "  labels_matrix = np.zeros((len(text), len(labels)))\n",
    "  # fill numpy array\n",
    "  for idx, label in enumerate(labels):\n",
    "    labels_matrix[:, idx] = labels_batch[label]\n",
    "\n",
    "  encoding[\"labels\"] = labels_matrix.tolist()\n",
    "  \n",
    "  return encoding"
   ]
  },
  {
   "cell_type": "code",
   "execution_count": 13,
   "metadata": {},
   "outputs": [
    {
     "name": "stderr",
     "output_type": "stream",
     "text": [
      "100%|██████████| 14/14 [00:13<00:00,  1.04ba/s]\n",
      "100%|██████████| 4/4 [00:03<00:00,  1.16ba/s]\n"
     ]
    }
   ],
   "source": [
    "train = datasets.Dataset.from_pandas(train_df)\n",
    "test = datasets.Dataset.from_pandas(test_df)\n",
    "encoded_train = train.map(preprocess_data, batched=True, remove_columns=train.column_names)\n",
    "encoded_test = test.map(preprocess_data, batched=True, remove_columns=test.column_names)\n",
    "encoded_train.set_format(\"torch\")\n",
    "encoded_test.set_format(\"torch\")"
   ]
  },
  {
   "cell_type": "code",
   "execution_count": 14,
   "metadata": {},
   "outputs": [
    {
     "data": {
      "text/plain": [
       "Dataset({\n",
       "    features: ['input_ids', 'token_type_ids', 'attention_mask', 'labels'],\n",
       "    num_rows: 13596\n",
       "})"
      ]
     },
     "execution_count": 14,
     "metadata": {},
     "output_type": "execute_result"
    }
   ],
   "source": [
    "encoded_train"
   ]
  },
  {
   "cell_type": "code",
   "execution_count": 15,
   "metadata": {},
   "outputs": [],
   "source": [
    "data_collator = DataCollatorWithPadding(tokenizer=tokenizer)"
   ]
  },
  {
   "cell_type": "code",
   "execution_count": 16,
   "metadata": {},
   "outputs": [],
   "source": [
    "batch_size = 16\n",
    "metric_name = \"f1\""
   ]
  },
  {
   "cell_type": "code",
   "execution_count": 17,
   "metadata": {},
   "outputs": [],
   "source": [
    "training_args = TrainingArguments(\n",
    "    output_dir=\"E:\\\\Pytorch\\\\Saved_Models\\\\CLASSIFICATION_MODEL\",\n",
    "    learning_rate=2e-5,\n",
    "    per_device_train_batch_size=batch_size,\n",
    "    per_device_eval_batch_size=batch_size,\n",
    "    num_train_epochs=3,\n",
    "    weight_decay=0.01,\n",
    "    evaluation_strategy=\"epoch\",\n",
    "    save_strategy=\"epoch\",\n",
    "    load_best_model_at_end=True,\n",
    "    push_to_hub=False,\n",
    "    metric_for_best_model=metric_name,\n",
    ")\n",
    "\n",
    "class ClassificationTrainer(Trainer):\n",
    "    def compute_loss(self, model, inputs, return_outputs=False):\n",
    "        labels = inputs.get(\"labels\")\n",
    "        outputs = model(**inputs)\n",
    "        logits = outputs.get('logits')\n",
    "        loss_fct = torch.nn.CrossEntropyLoss()\n",
    "        loss = loss_fct(logits.squeeze(), labels.squeeze())\n",
    "        return (loss, outputs) if return_outputs else loss\n",
    "\n",
    "trainer = ClassificationTrainer(\n",
    "    model=model,\n",
    "    args=training_args,\n",
    "    train_dataset=encoded_train,\n",
    "    eval_dataset=encoded_test,\n",
    "    tokenizer=tokenizer,\n",
    "    data_collator=data_collator,\n",
    "    compute_metrics=compute_metrics,\n",
    ")"
   ]
  },
  {
   "cell_type": "code",
   "execution_count": 18,
   "metadata": {},
   "outputs": [
    {
     "name": "stdout",
     "output_type": "stream",
     "text": [
      "dict_keys(['input_ids', 'token_type_ids', 'attention_mask', 'labels'])\n"
     ]
    }
   ],
   "source": [
    "example = encoded_train[0]\n",
    "print(example.keys())"
   ]
  },
  {
   "cell_type": "code",
   "execution_count": 19,
   "metadata": {},
   "outputs": [
    {
     "data": {
      "text/plain": [
       "'[CLS] overskrift : en lek med ilden. oppsummering : bataljen mellom aftenposten og hadia tajik illustrerer at pressen og politikere har et stort ansvar for å forvalte tilliten mellom dem. særlig av hensyn til hvordan omverdenen oppfatter forholdet. personer : hadia tajik, geir ramnefjell. organisasjoner : aftenposten. spådd [SEP]'"
      ]
     },
     "execution_count": 19,
     "metadata": {},
     "output_type": "execute_result"
    }
   ],
   "source": [
    "tokenizer.decode(example['input_ids'])"
   ]
  },
  {
   "cell_type": "code",
   "execution_count": 20,
   "metadata": {},
   "outputs": [
    {
     "data": {
      "text/plain": [
       "['meninger']"
      ]
     },
     "execution_count": 20,
     "metadata": {},
     "output_type": "execute_result"
    }
   ],
   "source": [
    "[id2label[idx] for idx, label in enumerate(example['labels']) if label == 1.0]"
   ]
  },
  {
   "cell_type": "code",
   "execution_count": 21,
   "metadata": {},
   "outputs": [
    {
     "name": "stderr",
     "output_type": "stream",
     "text": [
      "c:\\Users\\mathi\\Prosjekter\\Barcelona\\HLE\\HLE-Project\\venv\\lib\\site-packages\\transformers\\optimization.py:306: FutureWarning: This implementation of AdamW is deprecated and will be removed in a future version. Use the PyTorch implementation torch.optim.AdamW instead, or set `no_deprecation_warning=True` to disable this warning\n",
      "  warnings.warn(\n",
      "***** Running training *****\n",
      "  Num examples = 13596\n",
      "  Num Epochs = 3\n",
      "  Instantaneous batch size per device = 16\n",
      "  Total train batch size (w. parallel, distributed & accumulation) = 16\n",
      "  Gradient Accumulation steps = 1\n",
      "  Total optimization steps = 2550\n",
      "  Number of trainable parameters = 355097610\n",
      " 20%|█▉        | 500/2550 [03:23<13:24,  2.55it/s]"
     ]
    },
    {
     "name": "stdout",
     "output_type": "stream",
     "text": [
      "{'loss': 0.6243, 'learning_rate': 1.607843137254902e-05, 'epoch': 0.59}\n"
     ]
    },
    {
     "name": "stderr",
     "output_type": "stream",
     "text": [
      " 33%|███▎      | 850/2550 [05:41<10:42,  2.65it/s]***** Running Evaluation *****\n",
      "  Num examples = 3399\n",
      "  Batch size = 16\n",
      "                                                  \n",
      " 33%|███▎      | 850/2550 [05:59<10:42,  2.65it/s]"
     ]
    },
    {
     "name": "stdout",
     "output_type": "stream",
     "text": [
      "{'eval_loss': 0.2846260070800781, 'eval_f1': 0.4738724836922214, 'eval_roc_auc': 0.8746526756235494, 'eval_accuracy': 0.0088261253309797, 'eval_runtime': 18.6794, 'eval_samples_per_second': 181.966, 'eval_steps_per_second': 11.403, 'epoch': 1.0}\n"
     ]
    },
    {
     "name": "stderr",
     "output_type": "stream",
     "text": [
      "Saving model checkpoint to E:\\Pytorch\\Saved_Models\\CLASSIFICATION_MODEL\\checkpoint-850\n",
      "Configuration saved in E:\\Pytorch\\Saved_Models\\CLASSIFICATION_MODEL\\checkpoint-850\\config.json\n",
      "Model weights saved in E:\\Pytorch\\Saved_Models\\CLASSIFICATION_MODEL\\checkpoint-850\\pytorch_model.bin\n",
      "tokenizer config file saved in E:\\Pytorch\\Saved_Models\\CLASSIFICATION_MODEL\\checkpoint-850\\tokenizer_config.json\n",
      "Special tokens file saved in E:\\Pytorch\\Saved_Models\\CLASSIFICATION_MODEL\\checkpoint-850\\special_tokens_map.json\n",
      " 39%|███▉      | 1000/2550 [07:27<11:18,  2.28it/s] "
     ]
    },
    {
     "name": "stdout",
     "output_type": "stream",
     "text": [
      "{'loss': 0.3013, 'learning_rate': 1.215686274509804e-05, 'epoch': 1.18}\n"
     ]
    },
    {
     "name": "stderr",
     "output_type": "stream",
     "text": [
      " 59%|█████▉    | 1500/2550 [11:05<07:42,  2.27it/s]"
     ]
    },
    {
     "name": "stdout",
     "output_type": "stream",
     "text": [
      "{'loss': 0.2054, 'learning_rate': 8.23529411764706e-06, 'epoch': 1.76}\n"
     ]
    },
    {
     "name": "stderr",
     "output_type": "stream",
     "text": [
      " 67%|██████▋   | 1700/2550 [12:33<05:48,  2.44it/s]***** Running Evaluation *****\n",
      "  Num examples = 3399\n",
      "  Batch size = 16\n",
      "                                                   \n",
      " 67%|██████▋   | 1700/2550 [12:53<05:48,  2.44it/s]"
     ]
    },
    {
     "name": "stdout",
     "output_type": "stream",
     "text": [
      "{'eval_loss': 0.29035302996635437, 'eval_f1': 0.5956395092241151, 'eval_roc_auc': 0.921856101467752, 'eval_accuracy': 0.20388349514563106, 'eval_runtime': 19.5071, 'eval_samples_per_second': 174.245, 'eval_steps_per_second': 10.919, 'epoch': 2.0}\n"
     ]
    },
    {
     "name": "stderr",
     "output_type": "stream",
     "text": [
      "Saving model checkpoint to E:\\Pytorch\\Saved_Models\\CLASSIFICATION_MODEL\\checkpoint-1700\n",
      "Configuration saved in E:\\Pytorch\\Saved_Models\\CLASSIFICATION_MODEL\\checkpoint-1700\\config.json\n",
      "Model weights saved in E:\\Pytorch\\Saved_Models\\CLASSIFICATION_MODEL\\checkpoint-1700\\pytorch_model.bin\n",
      "tokenizer config file saved in E:\\Pytorch\\Saved_Models\\CLASSIFICATION_MODEL\\checkpoint-1700\\tokenizer_config.json\n",
      "Special tokens file saved in E:\\Pytorch\\Saved_Models\\CLASSIFICATION_MODEL\\checkpoint-1700\\special_tokens_map.json\n",
      " 78%|███████▊  | 2000/2550 [15:12<03:33,  2.58it/s]  "
     ]
    },
    {
     "name": "stdout",
     "output_type": "stream",
     "text": [
      "{'loss': 0.1313, 'learning_rate': 4.313725490196079e-06, 'epoch': 2.35}\n"
     ]
    },
    {
     "name": "stderr",
     "output_type": "stream",
     "text": [
      " 98%|█████████▊| 2500/2550 [18:24<00:18,  2.67it/s]"
     ]
    },
    {
     "name": "stdout",
     "output_type": "stream",
     "text": [
      "{'loss': 0.1055, 'learning_rate': 3.921568627450981e-07, 'epoch': 2.94}\n"
     ]
    },
    {
     "name": "stderr",
     "output_type": "stream",
     "text": [
      "100%|██████████| 2550/2550 [18:43<00:00,  2.74it/s]***** Running Evaluation *****\n",
      "  Num examples = 3399\n",
      "  Batch size = 16\n",
      "                                                   \n",
      "100%|██████████| 2550/2550 [19:01<00:00,  2.74it/s]Saving model checkpoint to E:\\Pytorch\\Saved_Models\\CLASSIFICATION_MODEL\\checkpoint-2550\n"
     ]
    },
    {
     "name": "stdout",
     "output_type": "stream",
     "text": [
      "{'eval_loss': 0.3220588266849518, 'eval_f1': 0.6933470861268695, 'eval_roc_auc': 0.9464384949821842, 'eval_accuracy': 0.4145336863783466, 'eval_runtime': 17.6191, 'eval_samples_per_second': 192.916, 'eval_steps_per_second': 12.089, 'epoch': 3.0}\n"
     ]
    },
    {
     "name": "stderr",
     "output_type": "stream",
     "text": [
      "Configuration saved in E:\\Pytorch\\Saved_Models\\CLASSIFICATION_MODEL\\checkpoint-2550\\config.json\n",
      "Model weights saved in E:\\Pytorch\\Saved_Models\\CLASSIFICATION_MODEL\\checkpoint-2550\\pytorch_model.bin\n",
      "tokenizer config file saved in E:\\Pytorch\\Saved_Models\\CLASSIFICATION_MODEL\\checkpoint-2550\\tokenizer_config.json\n",
      "Special tokens file saved in E:\\Pytorch\\Saved_Models\\CLASSIFICATION_MODEL\\checkpoint-2550\\special_tokens_map.json\n",
      "\n",
      "\n",
      "Training completed. Do not forget to share your model on huggingface.co/models =)\n",
      "\n",
      "\n",
      "Loading best model from E:\\Pytorch\\Saved_Models\\CLASSIFICATION_MODEL\\checkpoint-2550 (score: 0.6933470861268695).\n",
      "100%|██████████| 2550/2550 [19:26<00:00,  2.19it/s]"
     ]
    },
    {
     "name": "stdout",
     "output_type": "stream",
     "text": [
      "{'train_runtime': 1166.4973, 'train_samples_per_second': 34.966, 'train_steps_per_second': 2.186, 'train_loss': 0.2698802349614162, 'epoch': 3.0}\n"
     ]
    },
    {
     "name": "stderr",
     "output_type": "stream",
     "text": [
      "\n"
     ]
    },
    {
     "data": {
      "text/plain": [
       "TrainOutput(global_step=2550, training_loss=0.2698802349614162, metrics={'train_runtime': 1166.4973, 'train_samples_per_second': 34.966, 'train_steps_per_second': 2.186, 'train_loss': 0.2698802349614162, 'epoch': 3.0})"
      ]
     },
     "execution_count": 21,
     "metadata": {},
     "output_type": "execute_result"
    }
   ],
   "source": [
    "trainer.train()"
   ]
  },
  {
   "cell_type": "code",
   "execution_count": 22,
   "metadata": {},
   "outputs": [
    {
     "name": "stderr",
     "output_type": "stream",
     "text": [
      "Saving model checkpoint to E:\\Pytorch\\Saved_Models\\CLASSIFICATION_MODEL\\FINAL4\n",
      "Configuration saved in E:\\Pytorch\\Saved_Models\\CLASSIFICATION_MODEL\\FINAL4\\config.json\n",
      "Model weights saved in E:\\Pytorch\\Saved_Models\\CLASSIFICATION_MODEL\\FINAL4\\pytorch_model.bin\n",
      "tokenizer config file saved in E:\\Pytorch\\Saved_Models\\CLASSIFICATION_MODEL\\FINAL4\\tokenizer_config.json\n",
      "Special tokens file saved in E:\\Pytorch\\Saved_Models\\CLASSIFICATION_MODEL\\FINAL4\\special_tokens_map.json\n"
     ]
    }
   ],
   "source": [
    "trainer.save_model(\"E:\\\\Pytorch\\\\Saved_Models\\\\CLASSIFICATION_MODEL\\\\FINAL4\")"
   ]
  },
  {
   "attachments": {},
   "cell_type": "markdown",
   "metadata": {},
   "source": [
    "# Evaluation & Prediction"
   ]
  },
  {
   "cell_type": "code",
   "execution_count": 23,
   "metadata": {},
   "outputs": [
    {
     "name": "stderr",
     "output_type": "stream",
     "text": [
      "***** Running Prediction *****\n",
      "  Num examples = 3399\n",
      "  Batch size = 16\n",
      "100%|██████████| 213/213 [00:20<00:00, 10.54it/s]\n"
     ]
    }
   ],
   "source": [
    "predictions, true_labels, _ = trainer.predict(encoded_test)"
   ]
  },
  {
   "cell_type": "code",
   "execution_count": 24,
   "metadata": {},
   "outputs": [],
   "source": [
    "%%capture capture\n",
    "def eval(predictions, labels, verbose: bool=False, threshold: float=0.5):\n",
    "    sigmoid = torch.nn.Sigmoid()\n",
    "    probs = sigmoid(torch.Tensor(predictions))\n",
    "    # next, use threshold to turn them into integer predictions\n",
    "    y_pred = np.argmax(probs.numpy(), axis=1)\n",
    "    y_true = np.argmax(labels, axis=1)\n",
    "    target_names = [id2label[i] for i in np.unique(y_true)]\n",
    "    print(classification_report(y_true, y_pred, target_names=target_names, digits=4))\n",
    "    correct = np.sum(y_true == y_pred)\n",
    "    wrong = np.sum(y_true != y_pred)\n",
    "    print(f\"Correct answers: {correct}. Wrong answers: {wrong}\")\n",
    "    print(f\"Percentage of correct answers: {round(correct/(correct+wrong) * 100, 2)}%\")\n",
    "\n",
    "eval(predictions, true_labels, verbose=False)"
   ]
  },
  {
   "cell_type": "code",
   "execution_count": 25,
   "metadata": {},
   "outputs": [],
   "source": [
    "with open('report.txt', 'w') as f:\n",
    "    f.write(capture.stdout)"
   ]
  },
  {
   "cell_type": "code",
   "execution_count": 26,
   "metadata": {},
   "outputs": [],
   "source": [
    "# Visualize the columns from train_df in a bar chart\n",
    "training_counts = {}\n",
    "for column in train_df.columns:\n",
    "    if column != 'text':\n",
    "        training_counts[column] = train_df[column].sum()\n",
    "\n",
    "testing_counts = {}\n",
    "for column in test_df.columns:\n",
    "    if column != 'text':\n",
    "        testing_counts[column] = test_df[column].sum()\n"
   ]
  },
  {
   "cell_type": "code",
   "execution_count": 27,
   "metadata": {},
   "outputs": [
    {
     "data": {
      "image/png": "[encoded data removed]",
      "text/plain": [
       "<Figure size 1000x500 with 1 Axes>"
      ]
     },
     "metadata": {},
     "output_type": "display_data"
    }
   ],
   "source": [
    "# Normalize\n",
    "for key in training_counts.keys():\n",
    "    training_counts[key] = round(training_counts[key] / len(train_df), 2)\n",
    "# Plot the values in a bar chart\n",
    "plt.figure(figsize=(10, 5))\n",
    "plt.bar(training_counts.keys(), training_counts.values())\n",
    "plt.title(\"Distribution of labels in the training set\")\n",
    "plt.xlabel(\"Labels\")\n",
    "plt.ylabel(\"Percentage of labels\")\n",
    "plt.savefig('figures/training_label_distribution.png')\n",
    "plt.show()"
   ]
  },
  {
   "cell_type": "code",
   "execution_count": 28,
   "metadata": {},
   "outputs": [
    {
     "data": {
      "image/png": "[encoded data removed]",
      "text/plain": [
       "<Figure size 1000x500 with 1 Axes>"
      ]
     },
     "metadata": {},
     "output_type": "display_data"
    }
   ],
   "source": [
    "for key in testing_counts.keys():\n",
    "    testing_counts[key] = round(testing_counts[key] / len(test_df), 2)\n",
    "\n",
    "plt.figure(figsize=(10, 5))\n",
    "plt.bar(testing_counts.keys(), testing_counts.values())\n",
    "plt.title(\"Distribution of labels in the testing set\")\n",
    "plt.xlabel(\"Labels\")\n",
    "plt.ylabel(\"Percentage of labels\")\n",
    "plt.savefig('figures/testing_label_distribution.png')\n",
    "plt.show()"
   ]
  },
  {
   "attachments": {},
   "cell_type": "markdown",
   "metadata": {},
   "source": [
    "# Evaluate on articles from NRK"
   ]
  },
  {
   "cell_type": "code",
   "execution_count": 29,
   "metadata": {},
   "outputs": [
    {
     "name": "stderr",
     "output_type": "stream",
     "text": [
      "100%|██████████| 1/1 [00:00<00:00, 181.43ba/s]\n"
     ]
    }
   ],
   "source": [
    "# Links used:\n",
    "# https://www.nrk.no/sport/weng-slaktar-seg-sjolv-etter-sprekk_-_-darlegaste-nokon-gang-1.16216272\n",
    "# https://www.nrk.no/sport/kane-brente-straffe-da-frankrike-knuste-englands-vm-draum-1.16215885\n",
    "# https://www.nrk.no/nyheter/tyskland-1.14668923\n",
    "# https://www.nrk.no/trondelag/troll-of-trondheim_-ekstremvaer-i-storbritannia-kalles-troll-from-trondheim-eller-troll-of-trondheim-1.16215866\n",
    "\n",
    "headlines = [\n",
    "    \"Karlsson provosert av norsk taktikk: - Ein protest\",\n",
    "    \"England-stjerne med spark mot dommaren etter VM-exit\",\n",
    "    \"Mistenkt gjerningsperson død i Tyskland\",\n",
    "    \"Britisk ekstremvær har fått navnet «Troll of Trondheim»\"\n",
    "]\n",
    "\n",
    "summaries = [\n",
    "    \"Det blei dobbelt norsk på blanda stafett på Beitostølen, og no reagerer Frida Karlsson etter lite hjelp å få fra dei norske kvinnene.\",\n",
    "    \"England var nære ein semifinale i VM, men i staden blei det eit mareritt for kaptein Harry Kane. No reagerer spelarar og ekspertar på det dei skildrar som dårleg dømming.\",\n",
    "    \"Den mistenkte gjerningspersonen i gisselsituasjonen i Dresden i Tyskland er død, opplyser tysk politi i ei melding på Twitter\",\n",
    "    \"Deler av Storbritannia har fått ordentlig vintervær. Snø som blir liggende over natten og temperaturer ned mot ti kalde er ikke dagligdags for dem. I Storbritannia har kuldebølgen fått navnet «Troll of Trondheim».\"\n",
    "]\n",
    "\n",
    "nrk_labels = [\n",
    "    \"sport\",\n",
    "    \"sport\",\n",
    "    \"nyheter\",\n",
    "    \"nyheter\"\n",
    "]\n",
    "\n",
    "temp_df = pd.DataFrame(columns=train_df.columns).reset_index(drop=True)\n",
    "\n",
    "for i in range(4):\n",
    "    text = f\"{headlines[i]}. {summaries[i]}\"\n",
    "    temp_df.loc[i, \"text\"] = text\n",
    "    temp_df.loc[i, nrk_labels[i]] = 1\n",
    "\n",
    "temp_df.fillna(0, inplace=True)\n",
    "\n",
    "nrk_dataset = datasets.Dataset.from_pandas(temp_df)\n",
    "nrk_dataset = nrk_dataset.remove_columns(['__index_level_0__'])\n",
    "encoded_nrk = nrk_dataset.map(preprocess_data, batched=True, remove_columns=nrk_dataset.column_names)"
   ]
  },
  {
   "cell_type": "code",
   "execution_count": 30,
   "metadata": {},
   "outputs": [
    {
     "name": "stderr",
     "output_type": "stream",
     "text": [
      "***** Running Prediction *****\n",
      "  Num examples = 4\n",
      "  Batch size = 16\n"
     ]
    }
   ],
   "source": [
    "%%capture cap\n",
    "predictions, _, _ = trainer.predict(encoded_nrk)\n",
    "sigmoid = torch.nn.Sigmoid()\n",
    "probs = sigmoid(torch.Tensor(predictions))\n",
    "y_pred = np.argmax(probs.numpy(), axis=1)\n",
    "pred_labels = [id2label[idx] for idx in y_pred]\n",
    "print(f\"Correct labels: {nrk_labels}\")\n",
    "print(f\"Predicted labels: {pred_labels}\")"
   ]
  },
  {
   "cell_type": "code",
   "execution_count": 31,
   "metadata": {},
   "outputs": [],
   "source": [
    "with open(\"example.txt\", \"w\") as f:\n",
    "    f.write(cap.stdout)"
   ]
  }
 ],
 "metadata": {
  "kernelspec": {
   "display_name": "venv",
   "language": "python",
   "name": "python3"
  },
  "language_info": {
   "codemirror_mode": {
    "name": "ipython",
    "version": 3
   },
   "file_extension": ".py",
   "mimetype": "text/x-python",
   "name": "python",
   "nbconvert_exporter": "python",
   "pygments_lexer": "ipython3",
   "version": "3.10.4"
  },
  "orig_nbformat": 4,
  "vscode": {
   "interpreter": {
    "hash": "6e51af4e761ce08c9a3162c23271e854d50ee13994754eea2a99587894f30acc"
   }
  }
 },
 "nbformat": 4,
 "nbformat_minor": 2
}
