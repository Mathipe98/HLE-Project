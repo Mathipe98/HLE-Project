{
 "cells": [
  {
   "cell_type": "code",
   "execution_count": 1,
   "id": "637a4eb7",
   "metadata": {},
   "outputs": [],
   "source": [
    "from bertopic import BERTopic\n",
    "import pandas as pd\n",
    "\n",
    "f='/Users/markuswiikjensen/HLE_DB22_Dataset.csv'\n",
    "df=pd.read_csv(f)\n",
    "df.dropna(inplace=True)"
   ]
  },
  {
   "cell_type": "code",
   "execution_count": 23,
   "id": "50bc2e09",
   "metadata": {},
   "outputs": [
    {
     "data": {
      "text/plain": [
       "[[('nyttårsnatt', 0.5836),\n",
       "  ('hektisk', 0.3833),\n",
       "  ('politiet', 0.369),\n",
       "  ('flere', 0.1498),\n",
       "  ('steder', 0.0963)],\n",
       " [('datingmarkedet', 0.5782),\n",
       "  ('ekspertenes', 0.2894),\n",
       "  ('råd', 0.2297),\n",
       "  ('attraktiv', 0.2027),\n",
       "  ('beste', 0.1596)],\n",
       " [('endringer', 0.4118),\n",
       "  ('nyttår', 0.4099),\n",
       "  ('dyrere', 0.3787),\n",
       "  ('boligregler', 0.3625),\n",
       "  ('nye', 0.3559)],\n",
       " [('magefettet', 0.2995),\n",
       "  ('enkelt', 0.2294),\n",
       "  ('kilo', 0.2125),\n",
       "  ('kvitt', 0.2088),\n",
       "  ('ekspertene', 0.2046)],\n",
       " [('presidenten', 0.2734),\n",
       "  ('trump', 0.2369),\n",
       "  ('jenter', 0.2067),\n",
       "  ('henne', 0.1855),\n",
       "  ('dømt', 0.1633)],\n",
       " [('hoppuka', 0.462),\n",
       "  ('hoppernes', 0.4583),\n",
       "  ('skiforbundet', 0.3491),\n",
       "  ('jula', 0.3245),\n",
       "  ('landslagssjef', 0.3026)],\n",
       " [('måpe', 0.4105),\n",
       "  ('fansen', 0.3541),\n",
       "  ('leto', 0.21),\n",
       "  ('jared', 0.1498),\n",
       "  ('får', 0.0842)],\n",
       " [('kjendiser', 0.498),\n",
       "  ('paraidrett', 0.4747),\n",
       "  ('kjendis', 0.4146),\n",
       "  ('tredje', 0.4011),\n",
       "  ('sesong', 0.3656)],\n",
       " [('coronatilfellene', 0.5042),\n",
       "  ('pandemien', 0.3657),\n",
       "  ('forsker', 0.1089),\n",
       "  ('dansk', 0.0947),\n",
       "  ('holder', 0.0594)],\n",
       " [('dødsleiet', 0.6905),\n",
       "  ('avslørte', 0.4788),\n",
       "  ('selv', 0.445),\n",
       "  ('seg', 0.3254),\n",
       "  ('på', 0.2126)],\n",
       " [('lærere', 0.4564),\n",
       "  ('klasserommene', 0.4076),\n",
       "  ('karantene', 0.3776),\n",
       "  ('butikkansatte', 0.3342),\n",
       "  ('nyttår', 0.2728)],\n",
       " [('pandemivinter', 0.4942),\n",
       "  ('2021', 0.4657),\n",
       "  ('byrådslederen', 0.3892),\n",
       "  ('invaderte', 0.3105),\n",
       "  ('hovedstaden', 0.2765)],\n",
       " [('synge', 0.2836),\n",
       "  ('året', 0.2241),\n",
       "  ('nye', 0.2064),\n",
       "  ('cyrus', 0.1748),\n",
       "  ('gikk', 0.1433)],\n",
       " [('drap', 0.5489),\n",
       "  ('knivdrept', 0.5457),\n",
       "  ('britisk', 0.2776),\n",
       "  ('nyttårsdag', 0.2691),\n",
       "  ('siktet', 0.2362)],\n",
       " [('lavtrykk', 0.4542),\n",
       "  ('regn', 0.4513),\n",
       "  ('frosne', 0.4327),\n",
       "  ('feller', 0.3113),\n",
       "  ('veier', 0.3092)],\n",
       " [('russeren', 0.4785),\n",
       "  ('terentjev', 0.462),\n",
       "  ('semifinalen', 0.3596),\n",
       "  ('sprint', 0.3351),\n",
       "  ('omkampen', 0.3204)],\n",
       " [('michelle', 0.1623),\n",
       "  ('trakk', 0.1488),\n",
       "  ('sarah', 0.1453),\n",
       "  ('rampelyset', 0.126),\n",
       "  ('gellar', 0.1058)],\n",
       " [('nyttårsaften', 0.3556),\n",
       "  ('88', 0.3032),\n",
       "  ('gammel', 0.2584),\n",
       "  ('legenden', 0.1243),\n",
       "  ('år', 0.0887)],\n",
       " [('frykt', 0.3715),\n",
       "  ('sprer', 0.3327),\n",
       "  ('folkemengder', 0.3312),\n",
       "  ('omikron', 0.229),\n",
       "  ('bølge', 0.2282)],\n",
       " [('serieleder', 0.3115),\n",
       "  ('raknet', 0.2532),\n",
       "  ('manchester', 0.2235),\n",
       "  ('ødegaard', 0.214),\n",
       "  ('arsenal', 0.1158)],\n",
       " [('verkstedregning', 0.3287),\n",
       "  ('200', 0.2822),\n",
       "  ('kroner', 0.1942),\n",
       "  ('eier', 0.1547),\n",
       "  ('saken', 0.1183)],\n",
       " [('tyskeren', 0.3451),\n",
       "  ('landslagssjef', 0.2988),\n",
       "  ('tyske', 0.2663),\n",
       "  ('dommeren', 0.2647),\n",
       "  ('sanksjoner', 0.264)],\n",
       " [('ingrid', 0.3259),\n",
       "  ('audition', 0.3019),\n",
       "  ('sesong', 0.261),\n",
       "  ('anne', 0.2483),\n",
       "  ('regine', 0.2459)],\n",
       " [('sprinten', 0.3857),\n",
       "  ('ski', 0.2765),\n",
       "  ('tilleggsstraff', 0.2712),\n",
       "  ('ødelagt', 0.2287),\n",
       "  ('rival', 0.2281)],\n",
       " [('lørdagens', 0.4395),\n",
       "  ('låt', 0.3343),\n",
       "  ('hovedgjest', 0.3123),\n",
       "  ('tix', 0.2817),\n",
       "  ('sesongstart', 0.2758)],\n",
       " [('avhørt', 0.4075),\n",
       "  ('siktelsen', 0.3245),\n",
       "  ('drap', 0.298),\n",
       "  ('uforstående', 0.2595),\n",
       "  ('britiske', 0.241)],\n",
       " [('revansj', 0.5861),\n",
       "  ('øystein', 0.3425),\n",
       "  ('fjoråret', 0.3319),\n",
       "  ('pettersen', 0.3182),\n",
       "  ('pølsa', 0.272)],\n",
       " [('samfunnsstemningen', 0.3468),\n",
       "  ('ledere', 0.3165),\n",
       "  ('2022', 0.2788),\n",
       "  ('våre', 0.2074),\n",
       "  ('tro', 0.1658)],\n",
       " [('hopplegenden', 0.4179),\n",
       "  ('nyttårshopprennet', 0.3838),\n",
       "  ('vant', 0.261),\n",
       "  ('premien', 0.2479),\n",
       "  ('kreft', 0.2434)],\n",
       " [('fjor', 0.3113),\n",
       "  ('fangenskap', 0.243),\n",
       "  ('åtte', 0.212),\n",
       "  ('15', 0.1677),\n",
       "  ('rømme', 0.143)],\n",
       " [('smittespredningen', 0.5019),\n",
       "  ('sverige', 0.2974),\n",
       "  ('fart', 0.2162),\n",
       "  ('igjen', 0.1335),\n",
       "  ('skutt', 0.0866)]]"
      ]
     },
     "execution_count": 23,
     "metadata": {},
     "output_type": "execute_result"
    }
   ],
   "source": [
    "from keybert import KeyBERT\n",
    "from sentence_transformers import SentenceTransformer\n",
    "sentence_model = SentenceTransformer(\"NbAiLab/nb-sbert-base\")\n",
    "kw_model = KeyBERT(model=sentence_model)\n",
    "\n",
    "kw_model.extract_keywords(df.iloc[:31]['Subtitle'], stop_words=None)"
   ]
  },
  {
   "cell_type": "code",
   "execution_count": 41,
   "id": "f2720d52",
   "metadata": {},
   "outputs": [],
   "source": [
    "topic_model = BERTopic(embedding_model='NbAiLab/nb-sbert-base').fit(df.iloc[:31]['Subtitle'])"
   ]
  },
  {
   "cell_type": "code",
   "execution_count": 42,
   "id": "61838dbb",
   "metadata": {},
   "outputs": [
    {
     "data": {
      "text/html": [
       "<div>\n",
       "<style scoped>\n",
       "    .dataframe tbody tr th:only-of-type {\n",
       "        vertical-align: middle;\n",
       "    }\n",
       "\n",
       "    .dataframe tbody tr th {\n",
       "        vertical-align: top;\n",
       "    }\n",
       "\n",
       "    .dataframe thead th {\n",
       "        text-align: right;\n",
       "    }\n",
       "</style>\n",
       "<table border=\"1\" class=\"dataframe\">\n",
       "  <thead>\n",
       "    <tr style=\"text-align: right;\">\n",
       "      <th></th>\n",
       "      <th>Topic</th>\n",
       "      <th>Count</th>\n",
       "      <th>Name</th>\n",
       "    </tr>\n",
       "  </thead>\n",
       "  <tbody>\n",
       "    <tr>\n",
       "      <th>0</th>\n",
       "      <td>-1</td>\n",
       "      <td>31</td>\n",
       "      <td>-1_og_for_er_en</td>\n",
       "    </tr>\n",
       "  </tbody>\n",
       "</table>\n",
       "</div>"
      ],
      "text/plain": [
       "   Topic  Count             Name\n",
       "0     -1     31  -1_og_for_er_en"
      ]
     },
     "execution_count": 42,
     "metadata": {},
     "output_type": "execute_result"
    }
   ],
   "source": [
    "topic_model.get_topic_info()"
   ]
  },
  {
   "cell_type": "code",
   "execution_count": 43,
   "id": "82570202",
   "metadata": {},
   "outputs": [
    {
     "data": {
      "text/plain": [
       "[('og', 0.08258482732807615),\n",
       " ('for', 0.08258482732807615),\n",
       " ('er', 0.07200273840544043),\n",
       " ('en', 0.07200273840544043),\n",
       " ('det', 0.07200273840544043),\n",
       " ('til', 0.0664617111937333),\n",
       " ('på', 0.0664617111937333),\n",
       " ('seg', 0.054778989315831174),\n",
       " ('har', 0.04858037668497968),\n",
       " ('ikke', 0.04209004796524602)]"
      ]
     },
     "execution_count": 43,
     "metadata": {},
     "output_type": "execute_result"
    }
   ],
   "source": [
    "topic_model.get_topic(-1)"
   ]
  },
  {
   "cell_type": "code",
   "execution_count": 44,
   "id": "33510d61",
   "metadata": {},
   "outputs": [
    {
     "ename": "NameError",
     "evalue": "name 'tfidf_text' is not defined",
     "output_type": "error",
     "traceback": [
      "\u001b[0;31m---------------------------------------------------------------------------\u001b[0m",
      "\u001b[0;31mNameError\u001b[0m                                 Traceback (most recent call last)",
      "Cell \u001b[0;32mIn [44], line 3\u001b[0m\n\u001b[1;32m      1\u001b[0m \u001b[38;5;28;01mfrom\u001b[39;00m \u001b[38;5;21;01msklearn\u001b[39;00m\u001b[38;5;21;01m.\u001b[39;00m\u001b[38;5;21;01mdecomposition\u001b[39;00m \u001b[38;5;28;01mimport\u001b[39;00m TruncatedSVD\n\u001b[1;32m      2\u001b[0m svd \u001b[38;5;241m=\u001b[39m TruncatedSVD(n_components\u001b[38;5;241m=\u001b[39m\u001b[38;5;241m6\u001b[39m,n_iter\u001b[38;5;241m=\u001b[39m\u001b[38;5;241m100\u001b[39m, random_state\u001b[38;5;241m=\u001b[39m\u001b[38;5;241m42\u001b[39m)\n\u001b[0;32m----> 3\u001b[0m lsa\u001b[38;5;241m=\u001b[39m svd\u001b[38;5;241m.\u001b[39mfit_transform(\u001b[43mtfidf_text\u001b[49m)\n\u001b[1;32m      4\u001b[0m svd\u001b[38;5;241m.\u001b[39mget_params(deep\u001b[38;5;241m=\u001b[39m\u001b[38;5;28;01mTrue\u001b[39;00m)\n",
      "\u001b[0;31mNameError\u001b[0m: name 'tfidf_text' is not defined"
     ]
    }
   ],
   "source": [
    "from sklearn.decomposition import TruncatedSVD\n",
    "svd = TruncatedSVD(n_components=6,n_iter=100, random_state=42)\n",
    "\n",
    "lsa= svd.fit_transform('tfidf_text')\n",
    "svd.get_params(deep=True)\n"
   ]
  },
  {
   "cell_type": "code",
   "execution_count": null,
   "id": "a6bae5d6",
   "metadata": {},
   "outputs": [],
   "source": [
    "svd = TruncatedSVD(n_components=6,n_iter=100, random_state=42)\n",
    "\n",
    "lsa= svd.fit_transform('tfidf_text')\n",
    "svd.get_params(deep=True)\n"
   ]
  },
  {
   "cell_type": "code",
   "execution_count": null,
   "id": "10f1ea91",
   "metadata": {},
   "outputs": [],
   "source": [
    "# The decomposition \n",
    "U= lsa / svd.singular_values_\n",
    "Sigma = svd.singular_values_ \n",
    "V_transpose = svd.components_.T\n"
   ]
  },
  {
   "cell_type": "code",
   "execution_count": null,
   "id": "f8e1ae15",
   "metadata": {},
   "outputs": [],
   "source": [
    "N = range(1,11)\n",
    "for n in N:\n",
    "    svd = TruncatedSVD(n_components=n,n_iter=100, random_state=42)\n",
    "    svd.fit_transform(tfidf)\n",
    "    print(svd.explained_variance_ratio_)"
   ]
  }
 ],
 "metadata": {
  "kernelspec": {
   "display_name": "Python 3.9 (pytorch)",
   "language": "python",
   "name": "pytorch"
  },
  "language_info": {
   "codemirror_mode": {
    "name": "ipython",
    "version": 3
   },
   "file_extension": ".py",
   "mimetype": "text/x-python",
   "name": "python",
   "nbconvert_exporter": "python",
   "pygments_lexer": "ipython3",
   "version": "3.9.15"
  }
 },
 "nbformat": 4,
 "nbformat_minor": 5
}
